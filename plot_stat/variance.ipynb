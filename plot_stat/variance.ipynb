{
 "cells": [
  {
   "cell_type": "code",
   "execution_count": 7,
   "id": "f66af902",
   "metadata": {},
   "outputs": [],
   "source": [
    "import statistics as stat"
   ]
  },
  {
   "cell_type": "code",
   "execution_count": 8,
   "id": "3dd7208a",
   "metadata": {},
   "outputs": [],
   "source": [
    "a = [30,36,47,50,52,52,56,60,63,70,70,110]"
   ]
  },
  {
   "cell_type": "code",
   "execution_count": 9,
   "id": "52647b19",
   "metadata": {},
   "outputs": [
    {
     "data": {
      "text/plain": [
       "413.6363636363636"
      ]
     },
     "execution_count": 9,
     "metadata": {},
     "output_type": "execute_result"
    }
   ],
   "source": [
    "statistics.variance(a)"
   ]
  },
  {
   "cell_type": "code",
   "execution_count": 10,
   "id": "b54f43b3",
   "metadata": {},
   "outputs": [
    {
     "data": {
      "text/plain": [
       "20.338052110179177"
      ]
     },
     "execution_count": 10,
     "metadata": {},
     "output_type": "execute_result"
    }
   ],
   "source": [
    "statistics.stdev(a)"
   ]
  },
  {
   "cell_type": "code",
   "execution_count": 12,
   "id": "49ad7ae9",
   "metadata": {},
   "outputs": [],
   "source": [
    "m =stat.mean(a)"
   ]
  },
  {
   "cell_type": "code",
   "execution_count": 14,
   "id": "c71cff82",
   "metadata": {},
   "outputs": [
    {
     "name": "stdout",
     "output_type": "stream",
     "text": [
      "413.6363636363636\n"
     ]
    }
   ],
   "source": [
    "sum =0\n",
    "for i in a:\n",
    "    sum += (i-m)**2\n",
    "\n",
    "print(sum/(len(a)-1))"
   ]
  },
  {
   "cell_type": "code",
   "execution_count": null,
   "id": "31131b41",
   "metadata": {},
   "outputs": [],
   "source": []
  }
 ],
 "metadata": {
  "kernelspec": {
   "display_name": "venv",
   "language": "python",
   "name": "python3"
  },
  "language_info": {
   "codemirror_mode": {
    "name": "ipython",
    "version": 3
   },
   "file_extension": ".py",
   "mimetype": "text/x-python",
   "name": "python",
   "nbconvert_exporter": "python",
   "pygments_lexer": "ipython3",
   "version": "3.12.3"
  }
 },
 "nbformat": 4,
 "nbformat_minor": 5
}
