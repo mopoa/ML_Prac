{
 "cells": [
  {
   "cell_type": "markdown",
   "id": "836559b4",
   "metadata": {},
   "source": [
    "ConfusionMatrix"
   ]
  },
  {
   "cell_type": "code",
   "execution_count": 2,
   "id": "ace1ade5",
   "metadata": {},
   "outputs": [],
   "source": [
    "from sklearn.metrics import confusion_matrix\n",
    "from sklearn.metrics import accuracy_score\n",
    "from sklearn.metrics import classification_report"
   ]
  },
  {
   "cell_type": "code",
   "execution_count": 3,
   "id": "4f6176bf",
   "metadata": {},
   "outputs": [],
   "source": [
    "actual    = [\"spam\",\"real\",\"real\",\"spam\",\"real\",\"spam\",\"spam\",\"spam\",\"real\",\"spam\"]"
   ]
  },
  {
   "cell_type": "code",
   "execution_count": 4,
   "id": "edb16469",
   "metadata": {},
   "outputs": [],
   "source": [
    "predicted = [\"real\",\"real\",\"real\",\"real\",\"spam\",\"spam\",\"spam\",\"real\",\"real\",\"spam\"]\n"
   ]
  },
  {
   "cell_type": "code",
   "execution_count": 5,
   "id": "fcc74ab9",
   "metadata": {},
   "outputs": [
    {
     "data": {
      "text/plain": [
       "array([[3, 3],\n",
       "       [1, 3]])"
      ]
     },
     "execution_count": 5,
     "metadata": {},
     "output_type": "execute_result"
    }
   ],
   "source": [
    "c = confusion_matrix(actual,predicted,labels=[\"spam\",\"real\"])\n",
    "c"
   ]
  },
  {
   "cell_type": "code",
   "execution_count": 6,
   "id": "9e194a18",
   "metadata": {},
   "outputs": [
    {
     "data": {
      "text/plain": [
       "0.6"
      ]
     },
     "execution_count": 6,
     "metadata": {},
     "output_type": "execute_result"
    }
   ],
   "source": [
    "acc = accuracy_score(actual,predicted)\n",
    "acc"
   ]
  },
  {
   "cell_type": "code",
   "execution_count": 9,
   "id": "fcaedd51",
   "metadata": {},
   "outputs": [
    {
     "name": "stdout",
     "output_type": "stream",
     "text": [
      "              precision    recall  f1-score   support\n",
      "\n",
      "        real       0.50      0.75      0.60         4\n",
      "        spam       0.75      0.50      0.60         6\n",
      "\n",
      "    accuracy                           0.60        10\n",
      "   macro avg       0.62      0.62      0.60        10\n",
      "weighted avg       0.65      0.60      0.60        10\n",
      "\n"
     ]
    }
   ],
   "source": [
    "cr = classification_report(actual,predicted)\n",
    "print(cr)"
   ]
  },
  {
   "cell_type": "code",
   "execution_count": null,
   "id": "13429050",
   "metadata": {},
   "outputs": [],
   "source": []
  }
 ],
 "metadata": {
  "kernelspec": {
   "display_name": "venv",
   "language": "python",
   "name": "python3"
  },
  "language_info": {
   "codemirror_mode": {
    "name": "ipython",
    "version": 3
   },
   "file_extension": ".py",
   "mimetype": "text/x-python",
   "name": "python",
   "nbconvert_exporter": "python",
   "pygments_lexer": "ipython3",
   "version": "3.12.3"
  }
 },
 "nbformat": 4,
 "nbformat_minor": 5
}
